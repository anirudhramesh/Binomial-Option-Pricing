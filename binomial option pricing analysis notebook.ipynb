{
 "cells": [
  {
   "cell_type": "code",
   "execution_count": 1,
   "metadata": {},
   "outputs": [],
   "source": [
    "import pandas as pd\n",
    "import numpy as np\n",
    "import matplotlib.pyplot as plt\n",
    "from scipy.stats import norm\n",
    "import time"
   ]
  },
  {
   "cell_type": "code",
   "execution_count": 68,
   "metadata": {},
   "outputs": [
    {
     "data": {
      "text/plain": [
       "array([0.729, 0.243, 0.027, 0.001])"
      ]
     },
     "execution_count": 68,
     "metadata": {},
     "output_type": "execute_result"
    }
   ],
   "source": [
    "binom_obj = binom(3, 0.1)\n",
    "# np.arange(binom_obj.ppf(0.01), binom_obj.ppf(0.99))\n",
    "binom_obj.pmf(range(4))"
   ]
  },
  {
   "cell_type": "code",
   "execution_count": 5,
   "metadata": {
    "scrolled": true
   },
   "outputs": [
    {
     "name": "stdout",
     "output_type": "stream",
     "text": [
      "A binomial discrete random variable.\n",
      "\n",
      "    As an instance of the `rv_discrete` class, `binom` object inherits from it\n",
      "    a collection of generic methods (see below for the full list),\n",
      "    and completes them with details specific for this particular distribution.\n",
      "    \n",
      "    Methods\n",
      "    -------\n",
      "    rvs(n, p, loc=0, size=1, random_state=None)\n",
      "        Random variates.\n",
      "    pmf(k, n, p, loc=0)\n",
      "        Probability mass function.\n",
      "    logpmf(k, n, p, loc=0)\n",
      "        Log of the probability mass function.\n",
      "    cdf(k, n, p, loc=0)\n",
      "        Cumulative distribution function.\n",
      "    logcdf(k, n, p, loc=0)\n",
      "        Log of the cumulative distribution function.\n",
      "    sf(k, n, p, loc=0)\n",
      "        Survival function  (also defined as ``1 - cdf``, but `sf` is sometimes more accurate).\n",
      "    logsf(k, n, p, loc=0)\n",
      "        Log of the survival function.\n",
      "    ppf(q, n, p, loc=0)\n",
      "        Percent point function (inverse of ``cdf`` --- percentiles).\n",
      "    isf(q, n, p, loc=0)\n",
      "        Inverse survival function (inverse of ``sf``).\n",
      "    stats(n, p, loc=0, moments='mv')\n",
      "        Mean('m'), variance('v'), skew('s'), and/or kurtosis('k').\n",
      "    entropy(n, p, loc=0)\n",
      "        (Differential) entropy of the RV.\n",
      "    expect(func, args=(n, p), loc=0, lb=None, ub=None, conditional=False)\n",
      "        Expected value of a function (of one argument) with respect to the distribution.\n",
      "    median(n, p, loc=0)\n",
      "        Median of the distribution.\n",
      "    mean(n, p, loc=0)\n",
      "        Mean of the distribution.\n",
      "    var(n, p, loc=0)\n",
      "        Variance of the distribution.\n",
      "    std(n, p, loc=0)\n",
      "        Standard deviation of the distribution.\n",
      "    interval(alpha, n, p, loc=0)\n",
      "        Endpoints of the range that contains alpha percent of the distribution\n",
      "\n",
      "    Notes\n",
      "    -----\n",
      "    The probability mass function for `binom` is:\n",
      "\n",
      "    .. math::\n",
      "\n",
      "       f(k) = \\binom{n}{k} p^k (1-p)^{n-k}\n",
      "\n",
      "    for ``k`` in ``{0, 1,..., n}``.\n",
      "\n",
      "    `binom` takes ``n`` and ``p`` as shape parameters.\n",
      "\n",
      "    The probability mass function above is defined in the \"standardized\" form.\n",
      "    To shift distribution use the ``loc`` parameter.\n",
      "    Specifically, ``binom.pmf(k, n, p, loc)`` is identically\n",
      "    equivalent to ``binom.pmf(k - loc, n, p)``.\n",
      "\n",
      "    Examples\n",
      "    --------\n",
      "    >>> from scipy.stats import binom\n",
      "    >>> import matplotlib.pyplot as plt\n",
      "    >>> fig, ax = plt.subplots(1, 1)\n",
      "    \n",
      "    Calculate a few first moments:\n",
      "    \n",
      "    >>> n, p = 5, 0.4\n",
      "    >>> mean, var, skew, kurt = binom.stats(n, p, moments='mvsk')\n",
      "    \n",
      "    Display the probability mass function (``pmf``):\n",
      "    \n",
      "    >>> x = np.arange(binom.ppf(0.01, n, p),\n",
      "    ...               binom.ppf(0.99, n, p))\n",
      "    >>> ax.plot(x, binom.pmf(x, n, p), 'bo', ms=8, label='binom pmf')\n",
      "    >>> ax.vlines(x, 0, binom.pmf(x, n, p), colors='b', lw=5, alpha=0.5)\n",
      "    \n",
      "    Alternatively, the distribution object can be called (as a function)\n",
      "    to fix the shape and location. This returns a \"frozen\" RV object holding\n",
      "    the given parameters fixed.\n",
      "    \n",
      "    Freeze the distribution and display the frozen ``pmf``:\n",
      "    \n",
      "    >>> rv = binom(n, p)\n",
      "    >>> ax.vlines(x, 0, rv.pmf(x), colors='k', linestyles='-', lw=1,\n",
      "    ...         label='frozen pmf')\n",
      "    >>> ax.legend(loc='best', frameon=False)\n",
      "    >>> plt.show()\n",
      "    \n",
      "    Check accuracy of ``cdf`` and ``ppf``:\n",
      "    \n",
      "    >>> prob = binom.cdf(x, n, p)\n",
      "    >>> np.allclose(x, binom.ppf(prob, n, p))\n",
      "    True\n",
      "    \n",
      "    Generate random numbers:\n",
      "    \n",
      "    >>> r = binom.rvs(n, p, size=1000)\n",
      "\n",
      "    \n"
     ]
    }
   ],
   "source": [
    "from scipy.stats import binom\n",
    "print(binom.__doc__)"
   ]
  },
  {
   "cell_type": "code",
   "execution_count": 113,
   "metadata": {},
   "outputs": [],
   "source": [
    "def eur_option_price(sigma=0.3, T=1, t=0, steps=5, r=0.03, S=100, K=100):\n",
    "    S = [[S]]\n",
    "    dt = T/steps\n",
    "    u = np.exp(sigma * dt**0.5)\n",
    "    d = 1/u\n",
    "    p = (np.exp(r*dt)-d)/(u-d)\n",
    "\n",
    "    for i in range(int(T/dt)):\n",
    "        S.append([S[len(S)-1][0]*u, *list(np.array(S[len(S)-1])*d)])\n",
    "        \n",
    "#     print(S[len(S)-1])\n",
    "\n",
    "    puts = [list(map(max, np.zeros(len(S[len(S)-1])), [K-x for x in S[len(S)-1]]))]\n",
    "    calls = [list(map(max, np.zeros(len(S[len(S)-1])), [x-K for x in S[len(S)-1]]))]\n",
    "\n",
    "    for index in range(len(S)-2, -1, -1):\n",
    "        puts.append([p*np.exp(-r*dt)*puts[len(puts)-1][index1] +\n",
    "                                             (1-p)*np.exp(-r*dt)*puts[len(puts)-1][index1+1]\n",
    "                                             for index1 in range(len(S[index+1])-1)])\n",
    "        calls.append([p * np.exp(-r * dt) * calls[len(calls) - 1][index1] +\n",
    "                              (1 - p) * np.exp(-r * dt) * calls[len(calls) - 1][index1 + 1]\n",
    "                              for index1 in range(len(S[index + 1]) - 1)])\n",
    "        \n",
    "    return (calls[len(calls)-t-1], puts[len(puts)-t-1], S, puts, calls)"
   ]
  },
  {
   "cell_type": "code",
   "execution_count": 112,
   "metadata": {},
   "outputs": [],
   "source": [
    "from scipy.stats import binom\n",
    "\n",
    "def eur_option_price_rewrite(sigma=0.3, T=1, t=0, steps=5, r=0.03, S0=100, K=100):\n",
    "    dt = T/steps\n",
    "    u = np.exp(sigma * dt**0.5)\n",
    "    d = 1/u\n",
    "    p = (np.exp(r*dt)-d)/(u-d)\n",
    "    \n",
    "    St = S0 * (u ** np.arange(steps, -(steps+1), -2))\n",
    "    binomial_expansion = np.array(binom(steps, 1-p).pmf(range(steps+1)))\n",
    "    \n",
    "    calls = np.array(list(map(max, np.zeros(len(St)), St-K)))\n",
    "    puts = np.array(list(map(max, np.zeros(len(St)), K-St)))\n",
    "    \n",
    "    call_price = sum(binomial_expansion * calls)\n",
    "    put_price = sum(binomial_expansion * puts)\n",
    "    \n",
    "    return call_price, put_price"
   ]
  },
  {
   "cell_type": "code",
   "execution_count": 114,
   "metadata": {},
   "outputs": [
    {
     "name": "stdout",
     "output_type": "stream",
     "text": [
      "Put price: 13.86\n",
      "Call price: 10.91\n",
      "Put price: 14.29\n",
      "Call price: 11.24\n"
     ]
    }
   ],
   "source": [
    "sigma=0.3\n",
    "T=1\n",
    "r=0.03\n",
    "S=100\n",
    "K=100\n",
    "\n",
    "put, call, _, _, _ = eur_option_price()\n",
    "print('Put price: %.2f' % put[0])\n",
    "print('Call price: %.2f' % call[0])\n",
    "\n",
    "put, call = eur_option_price_rewrite()\n",
    "print('Put price: %.2f' % put)\n",
    "print('Call price: %.2f' % call)"
   ]
  },
  {
   "cell_type": "code",
   "execution_count": 5,
   "metadata": {},
   "outputs": [],
   "source": [
    "puts = []\n",
    "calls = []\n",
    "steps = list(range(2, 1000))        \n",
    "\n",
    "for step in steps:\n",
    "        put, call, _, _, _ = eur_option_price(steps=step)\n",
    "        puts.append(put[0])\n",
    "        calls.append(call[0])"
   ]
  },
  {
   "cell_type": "code",
   "execution_count": 6,
   "metadata": {},
   "outputs": [
    {
     "data": {
      "image/png": "[encoded data removed]",
      "text/plain": [
       "<Figure size 1224x864 with 2 Axes>"
      ]
     },
     "metadata": {
      "needs_background": "light"
     },
     "output_type": "display_data"
    }
   ],
   "source": [
    "fig, axs = plt.subplots(2, 1)\n",
    "fig.set_size_inches(17, 12)\n",
    "\n",
    "axs[0].plot(steps, puts)\n",
    "axs[0].set_xlabel('Steps')\n",
    "axs[0].set_ylabel('Option Price')\n",
    "axs[0].title.set_text('Put Options')\n",
    "\n",
    "axs[1].plot(steps, calls)\n",
    "axs[1].set_xlabel('Steps')\n",
    "axs[1].set_ylabel('Option Price')\n",
    "axs[1].title.set_text('Call Options')"
   ]
  },
  {
   "cell_type": "code",
   "execution_count": 7,
   "metadata": {},
   "outputs": [
    {
     "data": {
      "image/png": "[encoded data removed]",
      "text/plain": [
       "<Figure size 1224x432 with 2 Axes>"
      ]
     },
     "metadata": {
      "needs_background": "light"
     },
     "output_type": "display_data"
    }
   ],
   "source": [
    "fig, axs = plt.subplots(1, 2)\n",
    "fig.set_size_inches(17, 6)\n",
    "fig.suptitle('Convergence of First Order Price Difference')\n",
    "\n",
    "axs[0].plot(steps[1:], abs(np.diff(np.array(puts))), label='Puts')\n",
    "axs[0].set_xlabel('Steps')\n",
    "axs[0].set_ylabel('Price Diff')\n",
    "axs[0].title.set_text('Put Options')\n",
    "\n",
    "axs[1].plot(steps[1:], abs(np.diff(np.array(calls))), label='Calls')\n",
    "axs[1].set_xlabel('Steps')\n",
    "axs[1].set_ylabel('Price Diff')\n",
    "axs[1].title.set_text('Call Options')"
   ]
  },
  {
   "cell_type": "code",
   "execution_count": 20,
   "metadata": {},
   "outputs": [],
   "source": [
    "def plot_tree(stock_price_tree, ax, steps=3):\n",
    "#     ax.annotate('%.2f' % stock_price_tree[0][0], xy=(0, stock_price_tree[0][0]))\n",
    "    for ind in range(len(stock_price_tree)-2, -1, -1):\n",
    "        print(ind)\n",
    "        start_time = time.time()\n",
    "        for ind1 in range(len(stock_price_tree[ind])):\n",
    "            x_coords = [ind, ind+1]\n",
    "            y_coords1 = [stock_price_tree[ind][ind1], stock_price_tree[ind+1][ind1]]\n",
    "            y_coords2 = [stock_price_tree[ind][ind1], stock_price_tree[ind+1][ind1+1]]\n",
    "\n",
    "            ax.plot(x_coords, y_coords1)\n",
    "            ax.plot(x_coords, y_coords2)\n",
    "#             ax.annotate('%.2f' % y_coords1[1], xy=(x_coords[1], y_coords1[1]))\n",
    "#             ax.annotate('%.2f' % y_coords2[1], xy=(x_coords[1], y_coords2[1]))\n",
    "        print('Plotted in %.2f seconds' %(time.time() - start_time))\n",
    "\n",
    "    ax.set_xlabel('Steps')\n",
    "    ax.set_ylabel('Stock Price')\n",
    "    fig.suptitle('Stock Price Tree')"
   ]
  },
  {
   "cell_type": "code",
   "execution_count": 9,
   "metadata": {},
   "outputs": [],
   "source": [
    "finalised_steps = 600"
   ]
  },
  {
   "cell_type": "code",
   "execution_count": 10,
   "metadata": {},
   "outputs": [
    {
     "name": "stdout",
     "output_type": "stream",
     "text": [
      "Put price with 600 steps: 13.28\n",
      "Call price with 600 steps: 10.32\n"
     ]
    }
   ],
   "source": [
    "put_price, call_price, stock_price_tree, put_tree, call_tree = eur_option_price(steps=finalised_steps)\n",
    "print('Put price with %i steps: %.2f' % (finalised_steps, put_price[0]))\n",
    "print('Call price with %i steps: %.2f' % (finalised_steps, call_price[0]))"
   ]
  },
  {
   "cell_type": "code",
   "execution_count": null,
   "metadata": {
    "scrolled": true
   },
   "outputs": [],
   "source": [
    "# Uncomment this to plot binomial stock price tree. Takes forever with 600 steps.\n",
    "fig= plt.figure(1)\n",
    "ax = fig.add_subplot(111)\n",
    "fig.set_size_inches(10, 10)\n",
    "plot_tree(stock_price_tree, ax, steps=finalised_steps)\n",
    "\n",
    "plt.figure(2)\n",
    "plt.hist(stock_price_tree[len(stock_price_tree)-1])\n",
    "plt.title('Histogram of terminal stock price distribution')"
   ]
  },
  {
   "cell_type": "code",
   "execution_count": 24,
   "metadata": {},
   "outputs": [],
   "source": [
    "import networkx as nx\n",
    "\n",
    "def plot_tree_nx(stock_price_tree):\n",
    "#     ax.annotate('%.2f' % stock_price_tree[0][0], xy=(0, stock_price_tree[0][0]))\n",
    "    G = nx.Graph()\n",
    "    for ind in range(len(stock_price_tree)-2, -1, -1):\n",
    "        print(ind)\n",
    "        start_time = time.time()\n",
    "        for ind1 in range(len(stock_price_tree[ind])):\n",
    "            x_coords = [ind, ind+1]\n",
    "            y_coords1 = [stock_price_tree[ind][ind1], stock_price_tree[ind+1][ind1]]\n",
    "            y_coords2 = [stock_price_tree[ind][ind1], stock_price_tree[ind+1][ind1+1]]\n",
    "            \n",
    "            G.add_edge((x_coords[0], y_coords1[0]), (x_coords[1], y_coords1[1]))\n",
    "            G.add_edge((x_coords[0], y_coords2[0]), (x_coords[1], y_coords2[1]))\n",
    "\n",
    "#             ax.plot(x_coords, y_coords1)\n",
    "#             ax.plot(x_coords, y_coords2)\n",
    "#             ax.annotate('%.2f' % y_coords1[1], xy=(x_coords[1], y_coords1[1]))\n",
    "#             ax.annotate('%.2f' % y_coords2[1], xy=(x_coords[1], y_coords2[1]))\n",
    "        print('Plotted in %.2f seconds' %(time.time() - start_time))\n",
    "    nx.draw(G)\n",
    "\n",
    "#     ax.set_xlabel('Steps')\n",
    "#     ax.set_ylabel('Stock Price')\n",
    "#     fig.suptitle('Stock Price Tree')"
   ]
  },
  {
   "cell_type": "code",
   "execution_count": null,
   "metadata": {},
   "outputs": [],
   "source": [
    "plot_tree_nx(stock_price_tree)"
   ]
  },
  {
   "cell_type": "code",
   "execution_count": 10,
   "metadata": {},
   "outputs": [],
   "source": [
    "binomial_hedge_ratios = np.zeros((2, finalised_steps, finalised_steps))\n",
    "\n",
    "for ind in range(finalised_steps):\n",
    "    denom = np.flip(np.diff(np.flip(np.array(stock_price_tree[len(stock_price_tree)-1-ind]))))\n",
    "    num1 = np.flip(np.diff(np.flip(np.array(call_tree[ind]))))\n",
    "    num2 = np.flip(np.diff(np.flip(np.array(put_tree[ind]))))\n",
    "    binomial_hedge_ratios[0, ind, 0:finalised_steps-ind] = num1 / denom\n",
    "    binomial_hedge_ratios[1, ind, 0:finalised_steps-ind] = num2 / denom"
   ]
  },
  {
   "cell_type": "code",
   "execution_count": 11,
   "metadata": {},
   "outputs": [],
   "source": [
    "bs_hedge_ratios = np.zeros((2, finalised_steps, finalised_steps))\n",
    "for ind in range(1, finalised_steps):\n",
    "    t = T * ind / finalised_steps\n",
    "    num = np.log(np.array(stock_price_tree[len(stock_price_tree)-1-ind]) / K) + (r + sigma**2 / 2) * t\n",
    "    denom = sigma * t**0.5\n",
    "\n",
    "    bs_hedge_ratios[0, ind-1, 0:finalised_steps-ind+1] = norm.cdf(num / denom)\n",
    "    bs_hedge_ratios[1, ind-1, 0:finalised_steps-ind+1] = norm.cdf(num / denom) - 1"
   ]
  },
  {
   "cell_type": "code",
   "execution_count": 12,
   "metadata": {},
   "outputs": [
    {
     "name": "stdout",
     "output_type": "stream",
     "text": [
      "Call option:\n",
      "Min: -0.60 , Max: 0.16 , Average: 0.00\n"
     ]
    }
   ],
   "source": [
    "diff = (bs_hedge_ratios - binomial_hedge_ratios)\n",
    "\n",
    "print('Call option:')\n",
    "print('Min: %.2f , Max: %.2f , Average: %.2f' % (diff[0].min(), diff[0].max(), diff[0].mean()))"
   ]
  },
  {
   "cell_type": "code",
   "execution_count": 13,
   "metadata": {},
   "outputs": [
    {
     "name": "stdout",
     "output_type": "stream",
     "text": [
      "Price of American Put: 10.61\n"
     ]
    }
   ],
   "source": [
    "def american_option_price(sigma=0.3, T=1, t=0, steps=5, r=0.03, S=100, K=100):\n",
    "    S = [[S]]\n",
    "    dt = T/steps\n",
    "    u = np.exp(sigma * dt**0.5)\n",
    "    d = 1/u\n",
    "    p = (np.exp(r*dt)-d)/(u-d)\n",
    "\n",
    "    for i in range(int(T/dt)):\n",
    "        S.append([S[len(S)-1][0]*u, *list(np.array(S[len(S)-1])*d)])\n",
    "\n",
    "    puts = [list(map(max, np.zeros(len(S[len(S)-1])), [K-x for x in S[len(S)-1]]))]\n",
    "    calls = [list(map(max, np.zeros(len(S[len(S)-1])), [x-K for x in S[len(S)-1]]))]\n",
    "\n",
    "    for index in range(len(S)-2, -1, -1):\n",
    "        puts.append(list(map(max, list(map(max, np.zeros(index+1), [K-x for x in S[index]])),\n",
    "                                 [p*np.exp(-r*dt)*puts[len(puts)-1][index1] +\n",
    "                                             (1-p)*np.exp(-r*dt)*puts[len(puts)-1][index1+1]\n",
    "                                             for index1 in range(len(S[index+1])-1)])))\n",
    "        calls.append(list(map(max, list(map(max, np.zeros(index+1), [x-K for x in S[index]])),\n",
    "                                  [p * np.exp(-r * dt) * calls[len(calls) - 1][index1] +\n",
    "                              (1 - p) * np.exp(-r * dt) * calls[len(calls) - 1][index1 + 1]\n",
    "                              for index1 in range(len(S[index+1]) - 1)])))\n",
    "        \n",
    "    return (calls[len(calls)-t-1], puts[len(puts)-t-1], S, puts, calls)\n",
    "\n",
    "_, put_price, _, _, _ = american_option_price(steps=finalised_steps)\n",
    "print('Price of American Put: %.2f' % put_price[0])"
   ]
  }
 ],
 "metadata": {
  "kernelspec": {
   "display_name": "Python 3",
   "language": "python",
   "name": "python3"
  },
  "language_info": {
   "codemirror_mode": {
    "name": "ipython",
    "version": 3
   },
   "file_extension": ".py",
   "mimetype": "text/x-python",
   "name": "python",
   "nbconvert_exporter": "python",
   "pygments_lexer": "ipython3",
   "version": "3.8.1"
  }
 },
 "nbformat": 4,
 "nbformat_minor": 2
}
